{
 "cells": [
  {
   "cell_type": "markdown",
   "id": "31f436a0",
   "metadata": {},
   "source": [
    "# DATA SCIENCE TOOLS AND ECOSYSTEM"
   ]
  },
  {
   "cell_type": "markdown",
   "id": "93a1154a",
   "metadata": {},
   "source": [
    "In this notebook, Data Science Tools and Ecosystem are summarized."
   ]
  },
  {
   "cell_type": "markdown",
   "id": "6ed2454d",
   "metadata": {},
   "source": [
    "**Objectives:-**\n",
    "     -  Some of the popular languages that Data Scientists use.\n",
    "     -  Some of the commonly used libraries used by Data Scientists.\n",
    "     -  few examples of evaluating arithmetic expressions in Python."
   ]
  },
  {
   "cell_type": "markdown",
   "id": "472205b6",
   "metadata": {},
   "source": [
    "Some of the popular languages that Data Scientists use are:\n",
    "    1. Scala\n",
    "    2. Python\n",
    "    3. Java\n",
    "    4. Julia\n",
    "    5. R\n",
    "    6. SQL"
   ]
  },
  {
   "cell_type": "markdown",
   "id": "18efbeff",
   "metadata": {},
   "source": [
    "|Data Science Tools|\n",
    "|:--------:|\n",
    "|  Juypter Notebooks  | \n",
    "|  Spyder   | \n",
    "|  Rstudio   |"
   ]
  },
  {
   "cell_type": "markdown",
   "id": "c98f9bca",
   "metadata": {},
   "source": [
    "Some of the commonly used libraries used by Data Scientists include:\n",
    "    1. Numpy\n",
    "    2. Pandas\n",
    "    3. Seaborn\n",
    "    4. Matplotlib"
   ]
  },
  {
   "cell_type": "markdown",
   "id": "fe8f17de",
   "metadata": {},
   "source": [
    "### Below are a few examples of evaluating arithmetic expressions in Python"
   ]
  },
  {
   "cell_type": "code",
   "execution_count": 1,
   "id": "1a59e200",
   "metadata": {},
   "outputs": [
    {
     "data": {
      "text/plain": [
       "17"
      ]
     },
     "execution_count": 1,
     "metadata": {},
     "output_type": "execute_result"
    }
   ],
   "source": [
    "(3*4)+5\n",
    "#This a simple arithmetic expression to mutiply then add integers"
   ]
  },
  {
   "cell_type": "code",
   "execution_count": 3,
   "id": "b3ec6388",
   "metadata": {},
   "outputs": [
    {
     "name": "stdout",
     "output_type": "stream",
     "text": [
      "Hours: 3\n"
     ]
    }
   ],
   "source": [
    "m=200\n",
    "hour=200//60\n",
    "print(\"Hours:\",hour)\n",
    "#This will convert 200 minutes to hours by diving by 60"
   ]
  },
  {
   "cell_type": "markdown",
   "id": "e15217f8",
   "metadata": {},
   "source": [
    "## Author\n",
    "Eshal Minhaj"
   ]
  },
  {
   "cell_type": "code",
   "execution_count": null,
   "id": "b88e6aa5",
   "metadata": {},
   "outputs": [],
   "source": []
  }
 ],
 "metadata": {
  "kernelspec": {
   "display_name": "Python 3 (ipykernel)",
   "language": "python",
   "name": "python3"
  },
  "language_info": {
   "codemirror_mode": {
    "name": "ipython",
    "version": 3
   },
   "file_extension": ".py",
   "mimetype": "text/x-python",
   "name": "python",
   "nbconvert_exporter": "python",
   "pygments_lexer": "ipython3",
   "version": "3.9.12"
  }
 },
 "nbformat": 4,
 "nbformat_minor": 5
}
